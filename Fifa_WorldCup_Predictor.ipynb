{
 "cells": [
  {
   "cell_type": "code",
   "execution_count": 11,
   "id": "8647d79d",
   "metadata": {},
   "outputs": [],
   "source": [
    "#STEP 1\n",
    "import pandas as pd\n",
    "from sklearn.model_selection import train_test_split\n",
    "from sklearn.ensemble import RandomForestClassifier\n",
    "from sklearn.metrics import accuracy_score, classification_report\n",
    "from sklearn.preprocessing import LabelEncoder"
   ]
  },
  {
   "cell_type": "code",
   "execution_count": 12,
   "id": "b65a311f",
   "metadata": {},
   "outputs": [],
   "source": [
    "#STEP 2\n",
    "# Load the data from CSV file into pandas DataFrame\n",
    "data = pd.read_csv('Fifa_world_cup_matches.csv')\n",
    "\n",
    "# Create a new column 'Result' for team1\n",
    "# If 'number of goals team1' > 'number of goals team2', it's a Win (denoted by 2)\n",
    "# If 'number of goals team1' == 'number of goals team2', it's a Draw (denoted by 1)\n",
    "# Otherwise, it's a Loss (denoted by 0)\n",
    "data['Result'] = [2 if row['number of goals team1'] > row['number of goals team2'] else 1 if row['number of goals team1'] == row['number of goals team2'] else 0 for index, row in data.iterrows()]\n"
   ]
  },
  {
   "cell_type": "code",
   "execution_count": 14,
   "id": "d063fda4",
   "metadata": {},
   "outputs": [
    {
     "name": "stdout",
     "output_type": "stream",
     "text": [
      "           team1         team2 possession team1 possession team2  \\\n",
      "0          QATAR       ECUADOR              42%              50%   \n",
      "1        ENGLAND          IRAN              72%              19%   \n",
      "2        SENEGAL   NETHERLANDS              44%              45%   \n",
      "3  UNITED STATES         WALES              51%              39%   \n",
      "4      ARGENTINA  SAUDI ARABIA              64%              24%   \n",
      "\n",
      "  possession in contest  number of goals team1  number of goals team2  \\\n",
      "0                    8%                      0                      2   \n",
      "1                    9%                      6                      2   \n",
      "2                   11%                      0                      2   \n",
      "3                   10%                      1                      1   \n",
      "4                   12%                      1                      2   \n",
      "\n",
      "          date     hour category  ...  penalties scored team2  \\\n",
      "0  20 NOV 2022  17 : 00  Group A  ...                       1   \n",
      "1  21 NOV 2022  14 : 00  Group B  ...                       1   \n",
      "2  21 NOV 2022  17 : 00  Group A  ...                       0   \n",
      "3  21 NOV 2022  20 : 00  Group B  ...                       1   \n",
      "4  22 NOV 2022  11 : 00  Group C  ...                       0   \n",
      "\n",
      "   goal preventions team1  goal preventions team2  own goals team1  \\\n",
      "0                       6                       5                0   \n",
      "1                       8                      13                0   \n",
      "2                       9                      15                0   \n",
      "3                       7                       7                0   \n",
      "4                       4                      14                0   \n",
      "\n",
      "   own goals team2  forced turnovers team1  forced turnovers team2  \\\n",
      "0                0                      52                      72   \n",
      "1                0                      63                      72   \n",
      "2                0                      63                      73   \n",
      "3                0                      81                      72   \n",
      "4                0                      65                      80   \n",
      "\n",
      "   defensive pressures applied team1  defensive pressures applied team2  \\\n",
      "0                                256                                279   \n",
      "1                                139                                416   \n",
      "2                                263                                251   \n",
      "3                                242                                292   \n",
      "4                                163                                361   \n",
      "\n",
      "   Result  \n",
      "0       0  \n",
      "1       2  \n",
      "2       0  \n",
      "3       1  \n",
      "4       0  \n",
      "\n",
      "[5 rows x 89 columns]\n"
     ]
    }
   ],
   "source": [
    "#STEP 3\n",
    "# Print the first few rows of the DataFrame to understand the data\n",
    "print(data.head())"
   ]
  },
  {
   "cell_type": "code",
   "execution_count": 15,
   "id": "06a8f402",
   "metadata": {},
   "outputs": [],
   "source": [
    "#STEP 3 Continued\n",
    "#Here we are making the possession readable by the ML Model taking it from percentage text to actual intergers\n",
    "# Convert 'possession team1' and 'possession team2' from percentage to integer\n",
    "data['possession team1'] = data['possession team1'].str.rstrip('%').astype('int')\n",
    "data['possession team2'] = data['possession team2'].str.rstrip('%').astype('int')"
   ]
  },
  {
   "cell_type": "code",
   "execution_count": 10,
   "id": "0fa3be81",
   "metadata": {},
   "outputs": [
    {
     "name": "stdout",
     "output_type": "stream",
     "text": [
      "0     42\n",
      "1     72\n",
      "2     44\n",
      "3     51\n",
      "4     64\n",
      "      ..\n",
      "59    54\n",
      "60    34\n",
      "61    34\n",
      "62    45\n",
      "63    46\n",
      "Name: possession team1, Length: 64, dtype: int64\n",
      "\n",
      "0     50\n",
      "1     19\n",
      "2     45\n",
      "3     39\n",
      "4     24\n",
      "      ..\n",
      "59    36\n",
      "60    54\n",
      "61    55\n",
      "62    45\n",
      "63    40\n",
      "Name: possession team2, Length: 64, dtype: int64\n"
     ]
    }
   ],
   "source": [
    "#Cell to test if STEP 3 Continued Works\n",
    "print(data['possession team1'])\n",
    "print()\n",
    "print(data['possession team2'])"
   ]
  },
  {
   "cell_type": "code",
   "execution_count": 16,
   "id": "9bd1485e",
   "metadata": {},
   "outputs": [],
   "source": [
    "#Step 4 Feature Selection\n",
    "features = data[['possession team1', 'possession team2', 'forced turnovers team1']]\n",
    "labels = data['Result']"
   ]
  },
  {
   "cell_type": "code",
   "execution_count": 17,
   "id": "5a190993",
   "metadata": {},
   "outputs": [],
   "source": [
    "#Step 5 Split the Data into Training and Test Sets\n",
    "features_train, features_test, labels_train, labels_test = train_test_split(features, labels, test_size=0.2, random_state=42)"
   ]
  },
  {
   "cell_type": "code",
   "execution_count": 18,
   "id": "b6886660",
   "metadata": {},
   "outputs": [
    {
     "data": {
      "text/plain": [
       "RandomForestClassifier()"
      ]
     },
     "execution_count": 18,
     "metadata": {},
     "output_type": "execute_result"
    }
   ],
   "source": [
    "#Step 6 Train the Model\n",
    "model = RandomForestClassifier(n_estimators=100)\n",
    "model.fit(features_train, labels_train)"
   ]
  },
  {
   "cell_type": "code",
   "execution_count": 19,
   "id": "4d6f3517",
   "metadata": {},
   "outputs": [
    {
     "name": "stdout",
     "output_type": "stream",
     "text": [
      "Accuracy: 0.38461538461538464\n",
      "              precision    recall  f1-score   support\n",
      "\n",
      "           0       0.60      0.60      0.60         5\n",
      "           1       0.25      0.25      0.25         4\n",
      "           2       0.25      0.25      0.25         4\n",
      "\n",
      "    accuracy                           0.38        13\n",
      "   macro avg       0.37      0.37      0.37        13\n",
      "weighted avg       0.38      0.38      0.38        13\n",
      "\n"
     ]
    }
   ],
   "source": [
    "#STEP 7 Look into it again\n",
    "predictions = model.predict(features_test)\n",
    "print('Accuracy:', accuracy_score(labels_test, predictions))\n",
    "print(classification_report(labels_test, predictions))"
   ]
  },
  {
   "cell_type": "code",
   "execution_count": null,
   "id": "938bdfda",
   "metadata": {},
   "outputs": [],
   "source": []
  }
 ],
 "metadata": {
  "kernelspec": {
   "display_name": "Python 3 (ipykernel)",
   "language": "python",
   "name": "python3"
  },
  "language_info": {
   "codemirror_mode": {
    "name": "ipython",
    "version": 3
   },
   "file_extension": ".py",
   "mimetype": "text/x-python",
   "name": "python",
   "nbconvert_exporter": "python",
   "pygments_lexer": "ipython3",
   "version": "3.9.13"
  }
 },
 "nbformat": 4,
 "nbformat_minor": 5
}
